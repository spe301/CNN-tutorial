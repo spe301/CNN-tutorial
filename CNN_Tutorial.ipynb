{
  "nbformat": 4,
  "nbformat_minor": 0,
  "metadata": {
    "colab": {
      "name": "CNN_Tutorial.ipynb",
      "provenance": [],
      "collapsed_sections": [],
      "authorship_tag": "ABX9TyNhyU4EEcnUq2D5b+SlJ8W/",
      "include_colab_link": true
    },
    "kernelspec": {
      "name": "python3",
      "display_name": "Python 3"
    },
    "language_info": {
      "name": "python"
    }
  },
  "cells": [
    {
      "cell_type": "markdown",
      "metadata": {
        "id": "view-in-github",
        "colab_type": "text"
      },
      "source": [
        "<a href=\"https://colab.research.google.com/github/spe301/CNN-tutorial/blob/main/CNN_Tutorial.ipynb\" target=\"_parent\"><img src=\"https://colab.research.google.com/assets/colab-badge.svg\" alt=\"Open In Colab\"/></a>"
      ]
    },
    {
      "cell_type": "markdown",
      "metadata": {
        "id": "u4L3j-Zx0I8A"
      },
      "source": [
        "# A beginner's guide to Convolutional Neural Networks\n",
        "\n",
        "Convolutional Neural Networks (CNN) were originally created by Yahn LeCunn in the 1980's during his Post-Docand are designed for computer vision tasks including image classification. It wasn't until the data explosion of the 2010's, however, that they started getting used in the real world. In this tutorial I'll walk you through the process of building a CNN in Keras, data preprocessing, interpreting results, and finish with some OOP to help streamline this process. This will be done in colabs, this way it'll work on anybody's machine."
      ]
    },
    {
      "cell_type": "markdown",
      "metadata": {
        "id": "Uw1m2kKK3X_n"
      },
      "source": [
        "Let's import our dependencies first, "
      ]
    },
    {
      "cell_type": "code",
      "metadata": {
        "id": "K2lBQGW70B0l"
      },
      "source": [
        "from tensorflow.keras import models, layers # for the CNN model\n",
        "from tensorflow.keras.datasets import mnist, cifar10 # our dataset\n",
        "import numpy as np # does some math for us\n",
        "from matplotlib import pyplot as plt\n",
        "from sklearn.preprocessing import OneHotEncoder #will help us transform the labels\n",
        "\n",
        "def ViewAccuracy(history):\n",
        "  '''plots a model's accuracy throughout training'''\n",
        "  plt.plot(list(range(len(history.history['accuracy']))), history.history['accuracy'], label='train');\n",
        "  plt.plot(list(range(len(history.history['accuracy']))), history.history['val_accuracy'], label='val');\n",
        "  plt.legend(loc='best')\n",
        "  plt.xlabel('epochs')\n",
        "  plt.ylabel('accuracy')\n",
        "  return None\n",
        "\n",
        "\n",
        "def ViewLoss(history):\n",
        "  '''plots a model's loss throughout training'''\n",
        "  plt.plot(list(range(len(history.history['loss']))), history.history['loss'], label='train');\n",
        "  plt.plot(list(range(len(history.history['loss']))), history.history['val_loss'], label='val');\n",
        "  plt.legend(loc='best')\n",
        "  plt.xlabel('epochs')\n",
        "  plt.ylabel('loss')\n",
        "  return None"
      ],
      "execution_count": 1,
      "outputs": []
    },
    {
      "cell_type": "code",
      "metadata": {
        "id": "mApQ6ufS5ZkK",
        "colab": {
          "base_uri": "https://localhost:8080/"
        },
        "outputId": "3a582daf-a8d9-49c1-ad97-81c049d31b3d"
      },
      "source": [
        "train, test = mnist.load_data()\n",
        "train_images, train_labels = train\n",
        "test_images, test_labels = test"
      ],
      "execution_count": 2,
      "outputs": [
        {
          "output_type": "stream",
          "text": [
            "Downloading data from https://storage.googleapis.com/tensorflow/tf-keras-datasets/mnist.npz\n",
            "11493376/11490434 [==============================] - 0s 0us/step\n"
          ],
          "name": "stdout"
        }
      ]
    },
    {
      "cell_type": "code",
      "metadata": {
        "colab": {
          "base_uri": "https://localhost:8080/"
        },
        "id": "JTpXfkvj5jso",
        "outputId": "22e18d49-4712-4231-e6d1-6cb4b5b62795"
      },
      "source": [
        "# inspecting our data's shape\n",
        "train_images.shape, train_labels.shape, test_images.shape, test_labels.shape"
      ],
      "execution_count": 3,
      "outputs": [
        {
          "output_type": "execute_result",
          "data": {
            "text/plain": [
              "((60000, 28, 28), (60000,), (10000, 28, 28), (10000,))"
            ]
          },
          "metadata": {
            "tags": []
          },
          "execution_count": 3
        }
      ]
    },
    {
      "cell_type": "markdown",
      "metadata": {
        "id": "5tWoxUN07dUM"
      },
      "source": [
        "These numbers essentially mean that we will train the computer on 60,000 images, these are handwritten digits by the way, and test it on 10,000. each image is 28x28 pixels in size and is on a binary color scale. This means that all the pixels are on a specrum between two colors(i.e. black and white), as opposed to being in color and having a value for red, blue, and green. here's an example of one of our images"
      ]
    },
    {
      "cell_type": "code",
      "metadata": {
        "colab": {
          "base_uri": "https://localhost:8080/",
          "height": 282
        },
        "id": "wm2Z-c9O9w-3",
        "outputId": "097c4cde-9a35-4dc7-d516-4d63c1ebc2ac"
      },
      "source": [
        "selected = 0\n",
        "image = train_images[selected]\n",
        "label = train_labels[selected]\n",
        "plt.imshow(image), label"
      ],
      "execution_count": 4,
      "outputs": [
        {
          "output_type": "execute_result",
          "data": {
            "text/plain": [
              "(<matplotlib.image.AxesImage at 0x7f45d9152b50>, 5)"
            ]
          },
          "metadata": {
            "tags": []
          },
          "execution_count": 4
        },
        {
          "output_type": "display_data",
          "data": {
            "image/png": "[encoded data removed]",
            "text/plain": [
              "<Figure size 432x288 with 1 Axes>"
            ]
          },
          "metadata": {
            "tags": [],
            "needs_background": "light"
          }
        }
      ]
    },
    {
      "cell_type": "markdown",
      "metadata": {
        "id": "PB_mMKlx_ifr"
      },
      "source": [
        "Next, we will build our model. Our model will have 3 convolutional blocks, each with 28 filters. We add a pooling layer in between each convolutional layer and we add a flatten layer after the last convolution. The reason for this is to generate the final output."
      ]
    },
    {
      "cell_type": "code",
      "metadata": {
        "colab": {
          "base_uri": "https://localhost:8080/"
        },
        "id": "gaWusryKBA7Q",
        "outputId": "61e607bb-359b-4152-a495-4f9244bf7f4a"
      },
      "source": [
        "cnn = models.Sequential()\n",
        "cnn.add(layers.Conv2D(28, (3, 3), activation='relu', input_shape=(28, 28, 1)))\n",
        "cnn.add(layers.MaxPooling2D(2, 2))\n",
        "cnn.add(layers.Conv2D(56, (3, 3), activation='relu'))\n",
        "cnn.add(layers.MaxPooling2D(2, 2))\n",
        "cnn.add(layers.Conv2D(56, (3, 3), activation='relu'))\n",
        "cnn.add(layers.Flatten())\n",
        "cnn.add(layers.Dense(64, activation='relu'))\n",
        "cnn.add(layers.Dense(10, activation='softmax'))\n",
        "cnn.compile(metrics='accuracy', optimizer='rmsprop', loss='categorical_crossentropy')\n",
        "cnn.summary()"
      ],
      "execution_count": 5,
      "outputs": [
        {
          "output_type": "stream",
          "text": [
            "Model: \"sequential\"\n",
            "_________________________________________________________________\n",
            "Layer (type)                 Output Shape              Param #   \n",
            "=================================================================\n",
            "conv2d (Conv2D)              (None, 26, 26, 28)        280       \n",
            "_________________________________________________________________\n",
            "max_pooling2d (MaxPooling2D) (None, 13, 13, 28)        0         \n",
            "_________________________________________________________________\n",
            "conv2d_1 (Conv2D)            (None, 11, 11, 56)        14168     \n",
            "_________________________________________________________________\n",
            "max_pooling2d_1 (MaxPooling2 (None, 5, 5, 56)          0         \n",
            "_________________________________________________________________\n",
            "conv2d_2 (Conv2D)            (None, 3, 3, 56)          28280     \n",
            "_________________________________________________________________\n",
            "flatten (Flatten)            (None, 504)               0         \n",
            "_________________________________________________________________\n",
            "dense (Dense)                (None, 64)                32320     \n",
            "_________________________________________________________________\n",
            "dense_1 (Dense)              (None, 10)                650       \n",
            "=================================================================\n",
            "Total params: 75,698\n",
            "Trainable params: 75,698\n",
            "Non-trainable params: 0\n",
            "_________________________________________________________________\n"
          ],
          "name": "stdout"
        }
      ]
    },
    {
      "cell_type": "code",
      "metadata": {
        "colab": {
          "base_uri": "https://localhost:8080/"
        },
        "id": "yeS6PlvwGFQo",
        "outputId": "b3097567-38e6-4820-8b91-6303c45cf80e"
      },
      "source": [
        "X = train_images.reshape(60000, 28, 28, 1)\n",
        "Xval = test_images.reshape(10000, 28, 28, 1)\n",
        "y = OneHotEncoder().fit_transform(train_labels.reshape(-1, 1)).toarray()\n",
        "yval = OneHotEncoder().fit_transform(test_labels.reshape(-1, 1)).toarray()\n",
        "history = cnn.fit(X, y, batch_size=64, epochs=10, validation_split=0.2)"
      ],
      "execution_count": 6,
      "outputs": [
        {
          "output_type": "stream",
          "text": [
            "Epoch 1/10\n",
            "750/750 [==============================] - 38s 50ms/step - loss: 1.1206 - accuracy: 0.8483 - val_loss: 0.0768 - val_accuracy: 0.9778\n",
            "Epoch 2/10\n",
            "750/750 [==============================] - 37s 50ms/step - loss: 0.0759 - accuracy: 0.9800 - val_loss: 0.0630 - val_accuracy: 0.9822\n",
            "Epoch 3/10\n",
            "750/750 [==============================] - 38s 50ms/step - loss: 0.0496 - accuracy: 0.9868 - val_loss: 0.0537 - val_accuracy: 0.9858\n",
            "Epoch 4/10\n",
            "750/750 [==============================] - 38s 50ms/step - loss: 0.0410 - accuracy: 0.9882 - val_loss: 0.0541 - val_accuracy: 0.9858\n",
            "Epoch 5/10\n",
            "750/750 [==============================] - 37s 49ms/step - loss: 0.0341 - accuracy: 0.9906 - val_loss: 0.0656 - val_accuracy: 0.9862\n",
            "Epoch 6/10\n",
            "750/750 [==============================] - 37s 49ms/step - loss: 0.0267 - accuracy: 0.9927 - val_loss: 0.0638 - val_accuracy: 0.9877\n",
            "Epoch 7/10\n",
            "750/750 [==============================] - 37s 49ms/step - loss: 0.0249 - accuracy: 0.9933 - val_loss: 0.0884 - val_accuracy: 0.9871\n",
            "Epoch 8/10\n",
            "750/750 [==============================] - 37s 49ms/step - loss: 0.0283 - accuracy: 0.9932 - val_loss: 0.0816 - val_accuracy: 0.9843\n",
            "Epoch 9/10\n",
            "750/750 [==============================] - 37s 49ms/step - loss: 0.0239 - accuracy: 0.9945 - val_loss: 0.0798 - val_accuracy: 0.9872\n",
            "Epoch 10/10\n",
            "750/750 [==============================] - 37s 49ms/step - loss: 0.0207 - accuracy: 0.9949 - val_loss: 0.1033 - val_accuracy: 0.9824\n"
          ],
          "name": "stdout"
        }
      ]
    },
    {
      "cell_type": "code",
      "metadata": {
        "colab": {
          "base_uri": "https://localhost:8080/",
          "height": 279
        },
        "id": "otX_ftz6YtUc",
        "outputId": "1e96dbc4-30aa-480e-c288-f07ec70a8092"
      },
      "source": [
        "ViewAccuracy(history)"
      ],
      "execution_count": 7,
      "outputs": [
        {
          "output_type": "display_data",
          "data": {
            "image/png": "[encoded data removed]",
            "text/plain": [
              "<Figure size 432x288 with 1 Axes>"
            ]
          },
          "metadata": {
            "tags": [],
            "needs_background": "light"
          }
        }
      ]
    },
    {
      "cell_type": "code",
      "metadata": {
        "colab": {
          "base_uri": "https://localhost:8080/",
          "height": 279
        },
        "id": "uyx0F_f5aZGt",
        "outputId": "b2daced4-fff2-4737-e03d-a080280941f1"
      },
      "source": [
        "ViewLoss(history)"
      ],
      "execution_count": 8,
      "outputs": [
        {
          "output_type": "display_data",
          "data": {
            "image/png": "[encoded data removed]",
            "text/plain": [
              "<Figure size 432x288 with 1 Axes>"
            ]
          },
          "metadata": {
            "tags": [],
            "needs_background": "light"
          }
        }
      ]
    },
    {
      "cell_type": "code",
      "metadata": {
        "colab": {
          "base_uri": "https://localhost:8080/"
        },
        "id": "PTVBI9Pjc3JU",
        "outputId": "5ac25a84-960a-4e31-ce4a-c940dff8fc53"
      },
      "source": [
        "cnn.evaluate(X, y, batch_size=64)"
      ],
      "execution_count": 9,
      "outputs": [
        {
          "output_type": "stream",
          "text": [
            "938/938 [==============================] - 14s 15ms/step - loss: 0.0444 - accuracy: 0.9901\n"
          ],
          "name": "stdout"
        },
        {
          "output_type": "execute_result",
          "data": {
            "text/plain": [
              "[0.044401880353689194, 0.9901166558265686]"
            ]
          },
          "metadata": {
            "tags": []
          },
          "execution_count": 9
        }
      ]
    },
    {
      "cell_type": "code",
      "metadata": {
        "colab": {
          "base_uri": "https://localhost:8080/"
        },
        "id": "uaSMPz0FdNJE",
        "outputId": "05bd950b-fc08-4521-ef3f-0101f3c9e721"
      },
      "source": [
        "cnn.evaluate(Xval, yval, batch_size=64)"
      ],
      "execution_count": 10,
      "outputs": [
        {
          "output_type": "stream",
          "text": [
            "157/157 [==============================] - 2s 15ms/step - loss: 0.1008 - accuracy: 0.9842\n"
          ],
          "name": "stdout"
        },
        {
          "output_type": "execute_result",
          "data": {
            "text/plain": [
              "[0.100847989320755, 0.9842000007629395]"
            ]
          },
          "metadata": {
            "tags": []
          },
          "execution_count": 10
        }
      ]
    },
    {
      "cell_type": "code",
      "metadata": {
        "colab": {
          "base_uri": "https://localhost:8080/",
          "height": 298
        },
        "id": "HGN2_MiHd7uY",
        "outputId": "7f6b75d7-7990-4313-c9ce-0924774999ac"
      },
      "source": [
        "selected = 999\n",
        "predicted = cnn.predict(test_images[selected].reshape(1, 28, 28, 1)).argmax()\n",
        "actual = test_labels[selected]\n",
        "print('predicted: {}, actual: {}'.format(predicted, actual))\n",
        "plt.imshow(test_images[selected])"
      ],
      "execution_count": 29,
      "outputs": [
        {
          "output_type": "stream",
          "text": [
            "predicted: 9, actual: 9\n"
          ],
          "name": "stdout"
        },
        {
          "output_type": "execute_result",
          "data": {
            "text/plain": [
              "<matplotlib.image.AxesImage at 0x7f45cc54d790>"
            ]
          },
          "metadata": {
            "tags": []
          },
          "execution_count": 29
        },
        {
          "output_type": "display_data",
          "data": {
            "image/png": "[encoded data removed]",
            "text/plain": [
              "<Figure size 432x288 with 1 Axes>"
            ]
          },
          "metadata": {
            "tags": [],
            "needs_background": "light"
          }
        }
      ]
    },
    {
      "cell_type": "markdown",
      "metadata": {
        "id": "wdae0rvCnV2b"
      },
      "source": [
        "Our model's accuracy is really good for training and testing both. However, the loss does indicate that there is some overfitting. We're going to see if we can fix these issues. In the end adding a dropout layer after the last convolutional layer was able to get the best results"
      ]
    },
    {
      "cell_type": "code",
      "metadata": {
        "id": "bmQl4Fi2n0Ov",
        "colab": {
          "base_uri": "https://localhost:8080/"
        },
        "outputId": "782b8002-08fa-4345-aeda-595012bfc551"
      },
      "source": [
        "cnn2 = models.Sequential()\n",
        "cnn2.add(layers.Conv2D(28, (3, 3), activation='relu', input_shape=(28, 28, 1)))\n",
        "cnn2.add(layers.MaxPooling2D(2, 2))\n",
        "cnn2.add(layers.Conv2D(56, (3, 3), activation='relu'))\n",
        "cnn2.add(layers.MaxPooling2D(2, 2))\n",
        "cnn2.add(layers.Conv2D(56, (3, 3), activation='relu'))\n",
        "cnn2.add(layers.Dropout(0.5))\n",
        "cnn2.add(layers.Flatten())\n",
        "cnn2.add(layers.Dense(64, activation='relu'))\n",
        "cnn2.add(layers.Dense(10, activation='softmax'))\n",
        "cnn2.compile(metrics='accuracy', optimizer='rmsprop', loss='categorical_crossentropy')\n",
        "cnn2.summary()\n",
        "history = cnn2.fit(X, y, batch_size=64, epochs=10, validation_split=0.2) "
      ],
      "execution_count": 24,
      "outputs": [
        {
          "output_type": "stream",
          "text": [
            "Model: \"sequential_1\"\n",
            "_________________________________________________________________\n",
            "Layer (type)                 Output Shape              Param #   \n",
            "=================================================================\n",
            "conv2d_3 (Conv2D)            (None, 26, 26, 28)        280       \n",
            "_________________________________________________________________\n",
            "max_pooling2d_2 (MaxPooling2 (None, 13, 13, 28)        0         \n",
            "_________________________________________________________________\n",
            "conv2d_4 (Conv2D)            (None, 11, 11, 56)        14168     \n",
            "_________________________________________________________________\n",
            "max_pooling2d_3 (MaxPooling2 (None, 5, 5, 56)          0         \n",
            "_________________________________________________________________\n",
            "conv2d_5 (Conv2D)            (None, 3, 3, 56)          28280     \n",
            "_________________________________________________________________\n",
            "dropout (Dropout)            (None, 3, 3, 56)          0         \n",
            "_________________________________________________________________\n",
            "flatten_1 (Flatten)          (None, 504)               0         \n",
            "_________________________________________________________________\n",
            "dense_2 (Dense)              (None, 64)                32320     \n",
            "_________________________________________________________________\n",
            "dense_3 (Dense)              (None, 10)                650       \n",
            "=================================================================\n",
            "Total params: 75,698\n",
            "Trainable params: 75,698\n",
            "Non-trainable params: 0\n",
            "_________________________________________________________________\n",
            "Epoch 1/10\n",
            "750/750 [==============================] - 39s 51ms/step - loss: 1.7911 - accuracy: 0.7099 - val_loss: 0.0858 - val_accuracy: 0.9734\n",
            "Epoch 2/10\n",
            "750/750 [==============================] - 38s 51ms/step - loss: 0.1456 - accuracy: 0.9575 - val_loss: 0.0688 - val_accuracy: 0.9806\n",
            "Epoch 3/10\n",
            "750/750 [==============================] - 39s 51ms/step - loss: 0.1063 - accuracy: 0.9690 - val_loss: 0.0509 - val_accuracy: 0.9853\n",
            "Epoch 4/10\n",
            "750/750 [==============================] - 39s 53ms/step - loss: 0.0801 - accuracy: 0.9775 - val_loss: 0.0488 - val_accuracy: 0.9867\n",
            "Epoch 5/10\n",
            "750/750 [==============================] - 39s 52ms/step - loss: 0.0743 - accuracy: 0.9787 - val_loss: 0.0539 - val_accuracy: 0.9872\n",
            "Epoch 6/10\n",
            "750/750 [==============================] - 39s 52ms/step - loss: 0.0719 - accuracy: 0.9804 - val_loss: 0.0486 - val_accuracy: 0.9865\n",
            "Epoch 7/10\n",
            "750/750 [==============================] - 39s 52ms/step - loss: 0.0665 - accuracy: 0.9819 - val_loss: 0.0606 - val_accuracy: 0.9848\n",
            "Epoch 8/10\n",
            "750/750 [==============================] - 39s 52ms/step - loss: 0.0657 - accuracy: 0.9817 - val_loss: 0.0667 - val_accuracy: 0.9856\n",
            "Epoch 9/10\n",
            "750/750 [==============================] - 39s 52ms/step - loss: 0.0624 - accuracy: 0.9845 - val_loss: 0.0434 - val_accuracy: 0.9891\n",
            "Epoch 10/10\n",
            "750/750 [==============================] - 39s 52ms/step - loss: 0.0621 - accuracy: 0.9833 - val_loss: 0.0544 - val_accuracy: 0.9880\n"
          ],
          "name": "stdout"
        }
      ]
    },
    {
      "cell_type": "code",
      "metadata": {
        "colab": {
          "base_uri": "https://localhost:8080/",
          "height": 279
        },
        "id": "05JZ61JkFGDr",
        "outputId": "aaea6335-c08b-4436-94e2-71964fd8fd30"
      },
      "source": [
        "ViewAccuracy(history)"
      ],
      "execution_count": 27,
      "outputs": [
        {
          "output_type": "display_data",
          "data": {
            "image/png": "[encoded data removed]",
            "text/plain": [
              "<Figure size 432x288 with 1 Axes>"
            ]
          },
          "metadata": {
            "tags": [],
            "needs_background": "light"
          }
        }
      ]
    },
    {
      "cell_type": "code",
      "metadata": {
        "colab": {
          "base_uri": "https://localhost:8080/",
          "height": 279
        },
        "id": "4NijHLfoGKGM",
        "outputId": "f1b304c0-b908-48b0-a5ad-415dd12b779c"
      },
      "source": [
        "ViewLoss(history)"
      ],
      "execution_count": 28,
      "outputs": [
        {
          "output_type": "display_data",
          "data": {
            "image/png": "[encoded data removed]",
            "text/plain": [
              "<Figure size 432x288 with 1 Axes>"
            ]
          },
          "metadata": {
            "tags": [],
            "needs_background": "light"
          }
        }
      ]
    },
    {
      "cell_type": "code",
      "metadata": {
        "colab": {
          "base_uri": "https://localhost:8080/"
        },
        "id": "NNfOqcnaDxZt",
        "outputId": "3bd2bdbb-f937-432a-9639-77cd46da90c3"
      },
      "source": [
        "cnn2.evaluate(X, y, batch_size=64)"
      ],
      "execution_count": 25,
      "outputs": [
        {
          "output_type": "stream",
          "text": [
            "938/938 [==============================] - 14s 15ms/step - loss: 0.0320 - accuracy: 0.9911\n"
          ],
          "name": "stdout"
        },
        {
          "output_type": "execute_result",
          "data": {
            "text/plain": [
              "[0.031965360045433044, 0.9911166429519653]"
            ]
          },
          "metadata": {
            "tags": []
          },
          "execution_count": 25
        }
      ]
    },
    {
      "cell_type": "code",
      "metadata": {
        "colab": {
          "base_uri": "https://localhost:8080/"
        },
        "id": "41AqRu2cD_j4",
        "outputId": "a436c133-ffe7-4593-e66e-371f660a0c93"
      },
      "source": [
        "cnn2.evaluate(Xval, yval, batch_size=64)"
      ],
      "execution_count": 26,
      "outputs": [
        {
          "output_type": "stream",
          "text": [
            "157/157 [==============================] - 2s 15ms/step - loss: 0.0387 - accuracy: 0.9889\n"
          ],
          "name": "stdout"
        },
        {
          "output_type": "execute_result",
          "data": {
            "text/plain": [
              "[0.03871394321322441, 0.9889000058174133]"
            ]
          },
          "metadata": {
            "tags": []
          },
          "execution_count": 26
        }
      ]
    },
    {
      "cell_type": "markdown",
      "metadata": {
        "id": "DJCUngtuFemJ"
      },
      "source": [
        "This is doing better, our loss and accuracy is balanced for both training and testing data."
      ]
    },
    {
      "cell_type": "code",
      "metadata": {
        "colab": {
          "base_uri": "https://localhost:8080/",
          "height": 298
        },
        "id": "C-jDhYsNI8c0",
        "outputId": "5532d7e7-a323-477a-c732-53826abe7775"
      },
      "source": [
        "selected = 199\n",
        "predicted = cnn2.predict(test_images[selected].reshape(1, 28, 28, 1)).argmax()\n",
        "actual = test_labels[selected]\n",
        "print('predicted: {}, actual: {}'.format(predicted, actual))\n",
        "plt.imshow(test_images[selected])"
      ],
      "execution_count": 31,
      "outputs": [
        {
          "output_type": "stream",
          "text": [
            "predicted: 2, actual: 2\n"
          ],
          "name": "stdout"
        },
        {
          "output_type": "execute_result",
          "data": {
            "text/plain": [
              "<matplotlib.image.AxesImage at 0x7f45cc448090>"
            ]
          },
          "metadata": {
            "tags": []
          },
          "execution_count": 31
        },
        {
          "output_type": "display_data",
          "data": {
            "image/png": "[encoded data removed]",
            "text/plain": [
              "<Figure size 432x288 with 1 Axes>"
            ]
          },
          "metadata": {
            "tags": [],
            "needs_background": "light"
          }
        }
      ]
    },
    {
      "cell_type": "markdown",
      "metadata": {
        "id": "QRJwC0RKPaR9"
      },
      "source": [
        "Wrapping it all up"
      ]
    },
    {
      "cell_type": "code",
      "metadata": {
        "id": "6JTwgWSYP1Xz"
      },
      "source": [
        ""
      ],
      "execution_count": null,
      "outputs": []
    }
  ]
}