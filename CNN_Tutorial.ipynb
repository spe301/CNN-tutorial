{
  "nbformat": 4,
  "nbformat_minor": 0,
  "metadata": {
    "colab": {
      "name": "CNN_Tutorial.ipynb",
      "provenance": [],
      "collapsed_sections": [],
      "authorship_tag": "ABX9TyO87xYuyFAWgtX9TEl1WcPL",
      "include_colab_link": true
    },
    "kernelspec": {
      "name": "python3",
      "display_name": "Python 3"
    },
    "language_info": {
      "name": "python"
    }
  },
  "cells": [
    {
      "cell_type": "markdown",
      "metadata": {
        "id": "view-in-github",
        "colab_type": "text"
      },
      "source": [
        "<a href=\"https://colab.research.google.com/github/spe301/CNN-tutorial/blob/main/CNN_Tutorial.ipynb\" target=\"_parent\"><img src=\"https://colab.research.google.com/assets/colab-badge.svg\" alt=\"Open In Colab\"/></a>"
      ]
    },
    {
      "cell_type": "markdown",
      "metadata": {
        "id": "u4L3j-Zx0I8A"
      },
      "source": [
        "# A beginner's guide to Convolutional Neural Networks\n",
        "\n",
        "Convolutional Neural Networks (CNN) were originally created by Yahn LeCunn in the 1980's during his Post-Docand are designed for computer vision tasks including image classification. It wasn't until the data explosion of the 2010's, however, that they started getting used in the real world. In this tutorial I'll walk you through the process of building a CNN in Keras, data preprocessing, interpreting results, and finish with some OOP to help streamline this process. This will be done in colabs, this way it'll work on anybody's machine."
      ]
    },
    {
      "cell_type": "markdown",
      "metadata": {
        "id": "Uw1m2kKK3X_n"
      },
      "source": [
        "Let's import our dependencies first, "
      ]
    },
    {
      "cell_type": "code",
      "metadata": {
        "id": "K2lBQGW70B0l"
      },
      "source": [
        "from tensorflow.keras import models, layers # for the CNN model\n",
        "from tensorflow.keras.datasets import mnist, cifar10 # our dataset\n",
        "import numpy as np # does some math for us\n",
        "from matplotlib import pyplot as plt\n",
        "from sklearn.preprocessing import OneHotEncoder #will help us transform the labels\n",
        "\n",
        "def ViewAccuracy(history):\n",
        "  '''plots a model's accuracy throughout training'''\n",
        "  plt.plot(list(range(len(history.history['accuracy']))), history.history['accuracy'], label='train');\n",
        "  plt.plot(list(range(len(history.history['accuracy']))), history.history['val_accuracy'], label='val');\n",
        "  plt.legend(loc='best')\n",
        "  plt.xlabel('epochs')\n",
        "  plt.ylabel('accuracy')\n",
        "  return None\n",
        "\n",
        "\n",
        "def ViewLoss(history):\n",
        "  '''plots a model's loss throughout training'''\n",
        "  plt.plot(list(range(len(history.history['loss']))), history.history['loss'], label='train');\n",
        "  plt.plot(list(range(len(history.history['loss']))), history.history['val_loss'], label='val');\n",
        "  plt.legend(loc='best')\n",
        "  plt.xlabel('epochs')\n",
        "  plt.ylabel('loss')\n",
        "  return None"
      ],
      "execution_count": 1,
      "outputs": []
    },
    {
      "cell_type": "code",
      "metadata": {
        "id": "mApQ6ufS5ZkK"
      },
      "source": [
        "train, test = mnist.load_data()\n",
        "train_images, train_labels = train\n",
        "test_images, test_labels = test"
      ],
      "execution_count": null,
      "outputs": []
    },
    {
      "cell_type": "code",
      "metadata": {
        "colab": {
          "base_uri": "https://localhost:8080/"
        },
        "id": "JTpXfkvj5jso",
        "outputId": "8d42df3b-93dc-476d-fd10-9e77997b394b"
      },
      "source": [
        "# inspecting our data's shape\n",
        "train_images.shape, train_labels.shape, test_images.shape, test_labels.shape"
      ],
      "execution_count": null,
      "outputs": [
        {
          "output_type": "execute_result",
          "data": {
            "text/plain": [
              "((60000, 28, 28), (60000,), (10000, 28, 28), (10000,))"
            ]
          },
          "metadata": {
            "tags": []
          },
          "execution_count": 3
        }
      ]
    },
    {
      "cell_type": "markdown",
      "metadata": {
        "id": "5tWoxUN07dUM"
      },
      "source": [
        "These numbers essentially mean that we will train the computer on 60,000 images, these are handwritten digits by the way, and test it on 10,000. each image is 28x28 pixels in size and is on a binary color scale. This means that all the pixels are on a specrum between two colors(i.e. black and white), as opposed to being in color and having a value for red, blue, and green. here's an example of one of our images"
      ]
    },
    {
      "cell_type": "code",
      "metadata": {
        "colab": {
          "base_uri": "https://localhost:8080/",
          "height": 282
        },
        "id": "wm2Z-c9O9w-3",
        "outputId": "cf564489-dca4-4926-c176-a42d3d1df93f"
      },
      "source": [
        "selected = 0\n",
        "image = train_images[selected]\n",
        "label = train_labels[selected]\n",
        "plt.imshow(image), label"
      ],
      "execution_count": null,
      "outputs": [
        {
          "output_type": "execute_result",
          "data": {
            "text/plain": [
              "(<matplotlib.image.AxesImage at 0x7f123ce5ca10>, 5)"
            ]
          },
          "metadata": {
            "tags": []
          },
          "execution_count": 4
        },
        {
          "output_type": "display_data",
          "data": {
            "image/png": "[encoded data removed]",
            "text/plain": [
              "<Figure size 432x288 with 1 Axes>"
            ]
          },
          "metadata": {
            "tags": [],
            "needs_background": "light"
          }
        }
      ]
    },
    {
      "cell_type": "markdown",
      "metadata": {
        "id": "PB_mMKlx_ifr"
      },
      "source": [
        "Next, we will build our model. Our model will have 3 convolutional blocks, each with 28 filters. We add a pooling layer in between each convolutional layer and we add a flatten layer after the last convolution. The reason for this is to generate the final output."
      ]
    },
    {
      "cell_type": "code",
      "metadata": {
        "colab": {
          "base_uri": "https://localhost:8080/"
        },
        "id": "gaWusryKBA7Q",
        "outputId": "d5fae829-e6b3-44c1-a3f4-6670f6720407"
      },
      "source": [
        "cnn = models.Sequential()\n",
        "cnn.add(layers.Conv2D(28, (3, 3), activation='relu', input_shape=(28, 28, 1)))\n",
        "cnn.add(layers.MaxPooling2D(2, 2))\n",
        "cnn.add(layers.Conv2D(56, (3, 3), activation='relu'))\n",
        "cnn.add(layers.MaxPooling2D(2, 2))\n",
        "cnn.add(layers.Conv2D(56, (3, 3), activation='relu'))\n",
        "cnn.add(layers.Flatten())\n",
        "cnn.add(layers.Dense(64, activation='relu'))\n",
        "cnn.add(layers.Dense(10, activation='softmax'))\n",
        "cnn.compile(metrics='accuracy', optimizer='rmsprop', loss='categorical_crossentropy')\n",
        "cnn.summary()"
      ],
      "execution_count": null,
      "outputs": [
        {
          "output_type": "stream",
          "text": [
            "Model: \"sequential_2\"\n",
            "_________________________________________________________________\n",
            "Layer (type)                 Output Shape              Param #   \n",
            "=================================================================\n",
            "conv2d_6 (Conv2D)            (None, 26, 26, 28)        280       \n",
            "_________________________________________________________________\n",
            "max_pooling2d_5 (MaxPooling2 (None, 13, 13, 28)        0         \n",
            "_________________________________________________________________\n",
            "conv2d_7 (Conv2D)            (None, 11, 11, 56)        14168     \n",
            "_________________________________________________________________\n",
            "max_pooling2d_6 (MaxPooling2 (None, 5, 5, 56)          0         \n",
            "_________________________________________________________________\n",
            "conv2d_8 (Conv2D)            (None, 3, 3, 56)          28280     \n",
            "_________________________________________________________________\n",
            "flatten_2 (Flatten)          (None, 504)               0         \n",
            "_________________________________________________________________\n",
            "dense_4 (Dense)              (None, 64)                32320     \n",
            "_________________________________________________________________\n",
            "dense_5 (Dense)              (None, 10)                650       \n",
            "=================================================================\n",
            "Total params: 75,698\n",
            "Trainable params: 75,698\n",
            "Non-trainable params: 0\n",
            "_________________________________________________________________\n"
          ],
          "name": "stdout"
        }
      ]
    },
    {
      "cell_type": "code",
      "metadata": {
        "colab": {
          "base_uri": "https://localhost:8080/"
        },
        "id": "yeS6PlvwGFQo",
        "outputId": "e8b71430-bfca-420e-aa0a-b005ef037b42"
      },
      "source": [
        "X = train_images.reshape(60000, 28, 28, 1)\n",
        "Xval = test_images.reshape(10000, 28, 28, 1)\n",
        "y = OneHotEncoder().fit_transform(train_labels.reshape(-1, 1)).toarray()\n",
        "yval = OneHotEncoder().fit_transform(test_labels.reshape(-1, 1)).toarray()\n",
        "history = cnn.fit(X, y, batch_size=64, epochs=10, validation_split=0.2)"
      ],
      "execution_count": null,
      "outputs": [
        {
          "output_type": "stream",
          "text": [
            "Epoch 1/10\n",
            "750/750 [==============================] - 35s 47ms/step - loss: 0.0663 - accuracy: 0.9807 - val_loss: 0.0529 - val_accuracy: 0.9848\n",
            "Epoch 2/10\n",
            "750/750 [==============================] - 35s 47ms/step - loss: 0.0475 - accuracy: 0.9868 - val_loss: 0.0617 - val_accuracy: 0.9850\n",
            "Epoch 3/10\n",
            "750/750 [==============================] - 35s 47ms/step - loss: 0.0383 - accuracy: 0.9898 - val_loss: 0.0567 - val_accuracy: 0.9870\n",
            "Epoch 4/10\n",
            "750/750 [==============================] - 35s 47ms/step - loss: 0.0375 - accuracy: 0.9903 - val_loss: 0.0626 - val_accuracy: 0.9868\n",
            "Epoch 5/10\n",
            "750/750 [==============================] - 36s 48ms/step - loss: 0.0334 - accuracy: 0.9915 - val_loss: 0.0857 - val_accuracy: 0.9843\n",
            "Epoch 6/10\n",
            "750/750 [==============================] - 36s 48ms/step - loss: 0.0296 - accuracy: 0.9932 - val_loss: 0.0711 - val_accuracy: 0.9885\n",
            "Epoch 7/10\n",
            "750/750 [==============================] - 36s 48ms/step - loss: 0.0296 - accuracy: 0.9933 - val_loss: 0.1020 - val_accuracy: 0.9840\n",
            "Epoch 8/10\n",
            "750/750 [==============================] - 35s 47ms/step - loss: 0.0266 - accuracy: 0.9940 - val_loss: 0.0934 - val_accuracy: 0.9857\n",
            "Epoch 9/10\n",
            "750/750 [==============================] - 36s 47ms/step - loss: 0.0282 - accuracy: 0.9938 - val_loss: 0.1641 - val_accuracy: 0.9867\n",
            "Epoch 10/10\n",
            "750/750 [==============================] - 36s 48ms/step - loss: 0.0281 - accuracy: 0.9942 - val_loss: 0.1462 - val_accuracy: 0.9837\n"
          ],
          "name": "stdout"
        }
      ]
    },
    {
      "cell_type": "code",
      "metadata": {
        "colab": {
          "base_uri": "https://localhost:8080/",
          "height": 279
        },
        "id": "otX_ftz6YtUc",
        "outputId": "61f56c9b-89b1-4a1e-c823-277f08dc3e25"
      },
      "source": [
        "ViewAccuracy(history)"
      ],
      "execution_count": null,
      "outputs": [
        {
          "output_type": "display_data",
          "data": {
            "image/png": "[encoded data removed]",
            "text/plain": [
              "<Figure size 432x288 with 1 Axes>"
            ]
          },
          "metadata": {
            "tags": [],
            "needs_background": "light"
          }
        }
      ]
    },
    {
      "cell_type": "code",
      "metadata": {
        "colab": {
          "base_uri": "https://localhost:8080/",
          "height": 279
        },
        "id": "uyx0F_f5aZGt",
        "outputId": "e61e5b42-e92b-4bcd-def7-2153c1fce654"
      },
      "source": [
        "ViewLoss(history)"
      ],
      "execution_count": null,
      "outputs": [
        {
          "output_type": "display_data",
          "data": {
            "image/png": "[encoded data removed]",
            "text/plain": [
              "<Figure size 432x288 with 1 Axes>"
            ]
          },
          "metadata": {
            "tags": [],
            "needs_background": "light"
          }
        }
      ]
    },
    {
      "cell_type": "code",
      "metadata": {
        "colab": {
          "base_uri": "https://localhost:8080/"
        },
        "id": "PTVBI9Pjc3JU",
        "outputId": "cae5f6ed-dc14-4828-d5db-f438a951662f"
      },
      "source": [
        "cnn.evaluate(X, y, batch_size=64)"
      ],
      "execution_count": null,
      "outputs": [
        {
          "output_type": "stream",
          "text": [
            "938/938 [==============================] - 13s 13ms/step - loss: 0.0510 - accuracy: 0.9919\n"
          ],
          "name": "stdout"
        },
        {
          "output_type": "execute_result",
          "data": {
            "text/plain": [
              "[0.05099284276366234, 0.9919000267982483]"
            ]
          },
          "metadata": {
            "tags": []
          },
          "execution_count": 33
        }
      ]
    },
    {
      "cell_type": "code",
      "metadata": {
        "colab": {
          "base_uri": "https://localhost:8080/"
        },
        "id": "uaSMPz0FdNJE",
        "outputId": "8c65cfa5-d78b-4aa3-d874-2c6c52a32632"
      },
      "source": [
        "cnn.evaluate(Xval, yval, batch_size=64)"
      ],
      "execution_count": null,
      "outputs": [
        {
          "output_type": "stream",
          "text": [
            "157/157 [==============================] - 2s 14ms/step - loss: 0.1569 - accuracy: 0.9823\n"
          ],
          "name": "stdout"
        },
        {
          "output_type": "execute_result",
          "data": {
            "text/plain": [
              "[0.1568770557641983, 0.9822999835014343]"
            ]
          },
          "metadata": {
            "tags": []
          },
          "execution_count": 34
        }
      ]
    },
    {
      "cell_type": "code",
      "metadata": {
        "colab": {
          "base_uri": "https://localhost:8080/",
          "height": 298
        },
        "id": "HGN2_MiHd7uY",
        "outputId": "d386f809-2bd9-4ca3-a9a4-677ab4b3316f"
      },
      "source": [
        "selected = 9999\n",
        "predicted = cnn.predict(Xval[selected].reshape(1, 28, 28, 1)).argmax()\n",
        "actual = test_labels[selected]\n",
        "print('predicted: {}, actual: {}'.format(predicted, actual))\n",
        "plt.imshow(Xval[selected])"
      ],
      "execution_count": null,
      "outputs": [
        {
          "output_type": "stream",
          "text": [
            "predicted: 6, actual: 6\n"
          ],
          "name": "stdout"
        },
        {
          "output_type": "execute_result",
          "data": {
            "text/plain": [
              "<matplotlib.image.AxesImage at 0x7f11e94a3990>"
            ]
          },
          "metadata": {
            "tags": []
          },
          "execution_count": 46
        },
        {
          "output_type": "display_data",
          "data": {
            "image/png": "[encoded data removed]",
            "text/plain": [
              "<Figure size 432x288 with 1 Axes>"
            ]
          },
          "metadata": {
            "tags": [],
            "needs_background": "light"
          }
        }
      ]
    },
    {
      "cell_type": "markdown",
      "metadata": {
        "id": "wdae0rvCnV2b"
      },
      "source": [
        "Our model's accuracy is really good for training and testing both. However, the loss does indicate that there is some overfitting. We're going to see if we can fix these issues."
      ]
    },
    {
      "cell_type": "code",
      "metadata": {
        "id": "bmQl4Fi2n0Ov"
      },
      "source": [
        "cnn2 = models.Sequential()\n",
        "cnn2.add(layers.Conv2D(28, (3, 3), activation='relu', input_shape=(28, 28, 1)))\n",
        "cnn2.add(layers.MaxPooling2D(2, 2))\n",
        "cnn2.add(layers.Conv2D(56, (3, 3), activation='relu'))\n",
        "cnn2.add(layers.MaxPooling2D(2, 2))\n",
        "cnn2.add(layers.Conv2D(56, (3, 3), activation='relu'))\n",
        "cnn2.add(layers.Flatten())\n",
        "cnn2.add(layers.Dense(64, activation='relu'))\n",
        "cnn2.add(layers.Dense(10, activation='softmax'))\n",
        "cnn2.compile(metrics='accuracy', optimizer='rmsprop', loss='categorical_crossentropy')\n",
        "cnn2.summary()\n",
        "history = cnn2.fit(X, y, batch_size=64, epochs=10, validation_split=0.2) "
      ],
      "execution_count": null,
      "outputs": []
    }
  ]
}