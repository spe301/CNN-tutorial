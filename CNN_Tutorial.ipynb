{
  "nbformat": 4,
  "nbformat_minor": 0,
  "metadata": {
    "colab": {
      "name": "CNN_Tutorial.ipynb",
      "provenance": [],
      "collapsed_sections": [],
      "authorship_tag": "ABX9TyM5kLRFr46v+qE2DQCTfkfJ",
      "include_colab_link": true
    },
    "kernelspec": {
      "name": "python3",
      "display_name": "Python 3"
    },
    "language_info": {
      "name": "python"
    }
  },
  "cells": [
    {
      "cell_type": "markdown",
      "metadata": {
        "id": "view-in-github",
        "colab_type": "text"
      },
      "source": [
        "<a href=\"https://colab.research.google.com/github/spe301/CNN-tutorial/blob/main/CNN_Tutorial.ipynb\" target=\"_parent\"><img src=\"https://colab.research.google.com/assets/colab-badge.svg\" alt=\"Open In Colab\"/></a>"
      ]
    },
    {
      "cell_type": "markdown",
      "metadata": {
        "id": "u4L3j-Zx0I8A"
      },
      "source": [
        "# A beginner's guide to Convolutional Neural Networks\n",
        "\n",
        "Convolutional Neural Networks (CNNs) were originally created by Yahn LeCunn in the 1980's during his Post-Docand are designed for computer vision tasks including image classification. It wasn't until the data explosion of the 2010's, however, that they started getting used in the real world. In this tutorial I'll walk you through the process of building a CNN in Keras, data preprocessing, interpreting results, and finish with some OOP to help streamline this process. This will be done in colabs, this way it'll work on anybody's machine. For better context, we are building a CNN that can classify handwritten digits. The CNN will be trained on 60,000 images of handwritten digits and tested on 10,000."
      ]
    },
    {
      "cell_type": "markdown",
      "metadata": {
        "id": "Uw1m2kKK3X_n"
      },
      "source": [
        "Let's import our dependencies first, the functions below will help us view the CNN's loss and accuracy throughout training."
      ]
    },
    {
      "cell_type": "code",
      "metadata": {
        "id": "K2lBQGW70B0l"
      },
      "source": [
        "from tensorflow.keras import models, layers # for the CNN model\n",
        "from tensorflow.keras.datasets import mnist, cifar10 # our dataset\n",
        "import numpy as np # does some math for us\n",
        "from matplotlib import pyplot as plt\n",
        "from sklearn.preprocessing import OneHotEncoder #will help us transform the labels\n",
        "\n",
        "def ViewAccuracy(history):\n",
        "  '''plots a model's accuracy throughout training'''\n",
        "  plt.plot(list(range(len(history.history['accuracy']))), history.history['accuracy'], label='train');\n",
        "  plt.plot(list(range(len(history.history['accuracy']))), history.history['val_accuracy'], label='val');\n",
        "  plt.legend(loc='best')\n",
        "  plt.xlabel('epochs')\n",
        "  plt.ylabel('accuracy')\n",
        "  return None\n",
        "\n",
        "\n",
        "def ViewLoss(history):\n",
        "  '''plots a model's loss throughout training'''\n",
        "  plt.plot(list(range(len(history.history['loss']))), history.history['loss'], label='train');\n",
        "  plt.plot(list(range(len(history.history['loss']))), history.history['val_loss'], label='val');\n",
        "  plt.legend(loc='best')\n",
        "  plt.xlabel('epochs')\n",
        "  plt.ylabel('loss')\n",
        "  return None"
      ],
      "execution_count": null,
      "outputs": []
    },
    {
      "cell_type": "markdown",
      "metadata": {
        "id": "PQbC4n5b7e-Z"
      },
      "source": [
        "Next, we split the training and testing data. Do keep in mind that the mnist.load_data() from keras makes this process more simple than it would be otherwise."
      ]
    },
    {
      "cell_type": "code",
      "metadata": {
        "id": "mApQ6ufS5ZkK"
      },
      "source": [
        "train, test = mnist.load_data()\n",
        "train_images, train_labels = train\n",
        "test_images, test_labels = test"
      ],
      "execution_count": null,
      "outputs": []
    },
    {
      "cell_type": "code",
      "metadata": {
        "colab": {
          "base_uri": "https://localhost:8080/"
        },
        "id": "JTpXfkvj5jso",
        "outputId": "d9756d3e-57a4-4462-931e-30e086b3b9a3"
      },
      "source": [
        "# inspecting our data's shape\n",
        "train_images.shape, train_labels.shape, test_images.shape, test_labels.shape"
      ],
      "execution_count": null,
      "outputs": [
        {
          "output_type": "execute_result",
          "data": {
            "text/plain": [
              "((60000, 28, 28), (60000,), (10000, 28, 28), (10000,))"
            ]
          },
          "metadata": {
            "tags": []
          },
          "execution_count": 3
        }
      ]
    },
    {
      "cell_type": "markdown",
      "metadata": {
        "id": "5tWoxUN07dUM"
      },
      "source": [
        "These numbers essentially mean that we will train the computer on 60,000 images, these are handwritten digits by the way, and test it on 10,000. each image is 28x28 pixels in size and is on a binary color scale. This means that all the pixels are on a specrum between two colors(i.e. black and white), as opposed to being in color and having a value for red, blue, and green. here's an example of one of our images"
      ]
    },
    {
      "cell_type": "code",
      "metadata": {
        "colab": {
          "base_uri": "https://localhost:8080/",
          "height": 282
        },
        "id": "wm2Z-c9O9w-3",
        "outputId": "818283da-20ef-46c4-c8fd-5a30410d40b8"
      },
      "source": [
        "selected = 0\n",
        "image = train_images[selected]\n",
        "label = train_labels[selected]\n",
        "plt.imshow(image), label"
      ],
      "execution_count": null,
      "outputs": [
        {
          "output_type": "execute_result",
          "data": {
            "text/plain": [
              "(<matplotlib.image.AxesImage at 0x7f34effddd50>, 5)"
            ]
          },
          "metadata": {
            "tags": []
          },
          "execution_count": 4
        },
        {
          "output_type": "display_data",
          "data": {
            "image/png": "[encoded data removed]",
            "text/plain": [
              "<Figure size 432x288 with 1 Axes>"
            ]
          },
          "metadata": {
            "tags": [],
            "needs_background": "light"
          }
        }
      ]
    },
    {
      "cell_type": "markdown",
      "metadata": {
        "id": "PB_mMKlx_ifr"
      },
      "source": [
        "Next, we will build our model. Our model will have 3 convolutional blocks, each with 28 filters. We add a pooling layer in between each convolutional layer and we add a flatten layer after the last convolution. The reason for this is to generate the final output."
      ]
    },
    {
      "cell_type": "code",
      "metadata": {
        "colab": {
          "base_uri": "https://localhost:8080/"
        },
        "id": "gaWusryKBA7Q",
        "outputId": "cd9adc6c-ac05-4d65-a111-5c7eb809713a"
      },
      "source": [
        "cnn = models.Sequential()\n",
        "cnn.add(layers.Conv2D(28, (3, 3), activation='relu', input_shape=(28, 28, 1)))\n",
        "cnn.add(layers.MaxPooling2D(2, 2))\n",
        "cnn.add(layers.Conv2D(56, (3, 3), activation='relu'))\n",
        "cnn.add(layers.MaxPooling2D(2, 2))\n",
        "cnn.add(layers.Conv2D(56, (3, 3), activation='relu'))\n",
        "cnn.add(layers.Flatten())\n",
        "cnn.add(layers.Dense(64, activation='relu'))\n",
        "cnn.add(layers.Dense(10, activation='softmax'))\n",
        "cnn.compile(metrics='accuracy', optimizer='rmsprop', loss='categorical_crossentropy')\n",
        "cnn.summary()"
      ],
      "execution_count": null,
      "outputs": [
        {
          "output_type": "stream",
          "text": [
            "Model: \"sequential\"\n",
            "_________________________________________________________________\n",
            "Layer (type)                 Output Shape              Param #   \n",
            "=================================================================\n",
            "conv2d (Conv2D)              (None, 26, 26, 28)        280       \n",
            "_________________________________________________________________\n",
            "max_pooling2d (MaxPooling2D) (None, 13, 13, 28)        0         \n",
            "_________________________________________________________________\n",
            "conv2d_1 (Conv2D)            (None, 11, 11, 56)        14168     \n",
            "_________________________________________________________________\n",
            "max_pooling2d_1 (MaxPooling2 (None, 5, 5, 56)          0         \n",
            "_________________________________________________________________\n",
            "conv2d_2 (Conv2D)            (None, 3, 3, 56)          28280     \n",
            "_________________________________________________________________\n",
            "flatten (Flatten)            (None, 504)               0         \n",
            "_________________________________________________________________\n",
            "dense (Dense)                (None, 64)                32320     \n",
            "_________________________________________________________________\n",
            "dense_1 (Dense)              (None, 10)                650       \n",
            "=================================================================\n",
            "Total params: 75,698\n",
            "Trainable params: 75,698\n",
            "Non-trainable params: 0\n",
            "_________________________________________________________________\n"
          ],
          "name": "stdout"
        }
      ]
    },
    {
      "cell_type": "markdown",
      "metadata": {
        "id": "8688oU_M9Vif"
      },
      "source": [
        "Model Training"
      ]
    },
    {
      "cell_type": "code",
      "metadata": {
        "colab": {
          "base_uri": "https://localhost:8080/"
        },
        "id": "yeS6PlvwGFQo",
        "outputId": "5a75579a-5b4b-4aa1-8786-9c2b58ed79e0"
      },
      "source": [
        "X = train_images.reshape(60000, 28, 28, 1)\n",
        "Xval = test_images.reshape(10000, 28, 28, 1)\n",
        "y = OneHotEncoder().fit_transform(train_labels.reshape(-1, 1)).toarray()\n",
        "yval = OneHotEncoder().fit_transform(test_labels.reshape(-1, 1)).toarray()\n",
        "history = cnn.fit(X, y, batch_size=64, epochs=10, validation_split=0.2)"
      ],
      "execution_count": null,
      "outputs": [
        {
          "output_type": "stream",
          "text": [
            "Epoch 1/10\n",
            "750/750 [==============================] - 41s 53ms/step - loss: 1.6555 - accuracy: 0.8256 - val_loss: 0.0891 - val_accuracy: 0.9764\n",
            "Epoch 2/10\n",
            "750/750 [==============================] - 40s 53ms/step - loss: 0.0791 - accuracy: 0.9766 - val_loss: 0.0784 - val_accuracy: 0.9803\n",
            "Epoch 3/10\n",
            "750/750 [==============================] - 40s 53ms/step - loss: 0.0529 - accuracy: 0.9849 - val_loss: 0.0577 - val_accuracy: 0.9847\n",
            "Epoch 4/10\n",
            "750/750 [==============================] - 41s 55ms/step - loss: 0.0369 - accuracy: 0.9891 - val_loss: 0.0745 - val_accuracy: 0.9814\n",
            "Epoch 5/10\n",
            "750/750 [==============================] - 40s 54ms/step - loss: 0.0341 - accuracy: 0.9904 - val_loss: 0.0586 - val_accuracy: 0.9846\n",
            "Epoch 6/10\n",
            "750/750 [==============================] - 40s 54ms/step - loss: 0.0269 - accuracy: 0.9922 - val_loss: 0.0751 - val_accuracy: 0.9867\n",
            "Epoch 7/10\n",
            "750/750 [==============================] - 40s 54ms/step - loss: 0.0294 - accuracy: 0.9922 - val_loss: 0.0599 - val_accuracy: 0.9884\n",
            "Epoch 8/10\n",
            "750/750 [==============================] - 40s 53ms/step - loss: 0.0237 - accuracy: 0.9939 - val_loss: 0.0808 - val_accuracy: 0.9845\n",
            "Epoch 9/10\n",
            "750/750 [==============================] - 40s 53ms/step - loss: 0.0278 - accuracy: 0.9934 - val_loss: 0.1118 - val_accuracy: 0.9873\n",
            "Epoch 10/10\n",
            "750/750 [==============================] - 40s 53ms/step - loss: 0.0232 - accuracy: 0.9948 - val_loss: 0.0974 - val_accuracy: 0.9831\n"
          ],
          "name": "stdout"
        }
      ]
    },
    {
      "cell_type": "markdown",
      "metadata": {
        "id": "2B9fIVbC9L7d"
      },
      "source": [
        "Accuracy and Loss throughout training"
      ]
    },
    {
      "cell_type": "code",
      "metadata": {
        "colab": {
          "base_uri": "https://localhost:8080/",
          "height": 279
        },
        "id": "otX_ftz6YtUc",
        "outputId": "339d86ff-9e03-4b87-dd38-436ed2466e13"
      },
      "source": [
        "ViewAccuracy(history)"
      ],
      "execution_count": null,
      "outputs": [
        {
          "output_type": "display_data",
          "data": {
            "image/png": "[encoded data removed]",
            "text/plain": [
              "<Figure size 432x288 with 1 Axes>"
            ]
          },
          "metadata": {
            "tags": [],
            "needs_background": "light"
          }
        }
      ]
    },
    {
      "cell_type": "code",
      "metadata": {
        "colab": {
          "base_uri": "https://localhost:8080/",
          "height": 279
        },
        "id": "uyx0F_f5aZGt",
        "outputId": "12b42208-b21a-4ee5-937d-bdba89624030"
      },
      "source": [
        "ViewLoss(history)"
      ],
      "execution_count": null,
      "outputs": [
        {
          "output_type": "display_data",
          "data": {
            "image/png": "[encoded data removed]",
            "text/plain": [
              "<Figure size 432x288 with 1 Axes>"
            ]
          },
          "metadata": {
            "tags": [],
            "needs_background": "light"
          }
        }
      ]
    },
    {
      "cell_type": "markdown",
      "metadata": {
        "id": "yJBVLN7c8-Ab"
      },
      "source": [
        "Model evaluation"
      ]
    },
    {
      "cell_type": "code",
      "metadata": {
        "colab": {
          "base_uri": "https://localhost:8080/"
        },
        "id": "PTVBI9Pjc3JU",
        "outputId": "0abeaf03-2075-4191-d898-2299c8f8d199"
      },
      "source": [
        "cnn.evaluate(X, y, batch_size=64)"
      ],
      "execution_count": null,
      "outputs": [
        {
          "output_type": "stream",
          "text": [
            "938/938 [==============================] - 15s 16ms/step - loss: 0.0375 - accuracy: 0.9915\n"
          ],
          "name": "stdout"
        },
        {
          "output_type": "execute_result",
          "data": {
            "text/plain": [
              "[0.0375223383307457, 0.9915333390235901]"
            ]
          },
          "metadata": {
            "tags": []
          },
          "execution_count": 9
        }
      ]
    },
    {
      "cell_type": "code",
      "metadata": {
        "colab": {
          "base_uri": "https://localhost:8080/"
        },
        "id": "uaSMPz0FdNJE",
        "outputId": "99f23554-895e-4182-d753-b263b9892cbb"
      },
      "source": [
        "cnn.evaluate(Xval, yval, batch_size=64)"
      ],
      "execution_count": null,
      "outputs": [
        {
          "output_type": "stream",
          "text": [
            "157/157 [==============================] - 3s 17ms/step - loss: 0.0874 - accuracy: 0.9839\n"
          ],
          "name": "stdout"
        },
        {
          "output_type": "execute_result",
          "data": {
            "text/plain": [
              "[0.08739908039569855, 0.9839000105857849]"
            ]
          },
          "metadata": {
            "tags": []
          },
          "execution_count": 10
        }
      ]
    },
    {
      "cell_type": "code",
      "metadata": {
        "colab": {
          "base_uri": "https://localhost:8080/"
        },
        "id": "_H39O9GBEy8Y",
        "outputId": "f3974aad-d4c5-4ad7-af9a-b9562290f340"
      },
      "source": [
        "test_images[selected].shape"
      ],
      "execution_count": null,
      "outputs": [
        {
          "output_type": "execute_result",
          "data": {
            "text/plain": [
              "(28, 28)"
            ]
          },
          "metadata": {
            "tags": []
          },
          "execution_count": 31
        }
      ]
    },
    {
      "cell_type": "markdown",
      "metadata": {
        "id": "bZQF61oL8zyi"
      },
      "source": [
        "Model prediction"
      ]
    },
    {
      "cell_type": "code",
      "metadata": {
        "colab": {
          "base_uri": "https://localhost:8080/",
          "height": 298
        },
        "id": "HGN2_MiHd7uY",
        "outputId": "aaff4558-a438-40e5-e44a-c768270b8398"
      },
      "source": [
        "selected = 879\n",
        "predicted = cnn.predict(test_images[selected].reshape(1, 28, 28, 1)).argmax()\n",
        "actual = test_labels[selected]\n",
        "print('predicted: {}, actual: {}'.format(predicted, actual))\n",
        "plt.imshow(test_images[selected])"
      ],
      "execution_count": null,
      "outputs": [
        {
          "output_type": "stream",
          "text": [
            "predicted: 8, actual: 8\n"
          ],
          "name": "stdout"
        },
        {
          "output_type": "execute_result",
          "data": {
            "text/plain": [
              "<matplotlib.image.AxesImage at 0x7f34ec363610>"
            ]
          },
          "metadata": {
            "tags": []
          },
          "execution_count": 30
        },
        {
          "output_type": "display_data",
          "data": {
            "image/png": "[encoded data removed]",
            "text/plain": [
              "<Figure size 432x288 with 1 Axes>"
            ]
          },
          "metadata": {
            "tags": [],
            "needs_background": "light"
          }
        }
      ]
    },
    {
      "cell_type": "markdown",
      "metadata": {
        "id": "wdae0rvCnV2b"
      },
      "source": [
        "Our model's accuracy is really good for training and testing both. However, the loss does indicate that there is some overfitting. We're going to see if we can fix these issues. In the end adding a dropout layer after the last convolutional layer was able to get the best results"
      ]
    },
    {
      "cell_type": "markdown",
      "metadata": {
        "id": "dPGb-3P09gfl"
      },
      "source": [
        "Here is the code and summary for the better model"
      ]
    },
    {
      "cell_type": "code",
      "metadata": {
        "id": "bmQl4Fi2n0Ov",
        "colab": {
          "base_uri": "https://localhost:8080/"
        },
        "outputId": "371fa9b9-1019-4879-8938-fdd9de90ce13"
      },
      "source": [
        "cnn2 = models.Sequential()\n",
        "cnn2.add(layers.Conv2D(28, (3, 3), activation='relu', input_shape=(28, 28, 1)))\n",
        "cnn2.add(layers.MaxPooling2D(2, 2))\n",
        "cnn2.add(layers.Conv2D(56, (3, 3), activation='relu'))\n",
        "cnn2.add(layers.MaxPooling2D(2, 2))\n",
        "cnn2.add(layers.Conv2D(56, (3, 3), activation='relu'))\n",
        "cnn2.add(layers.Dropout(0.5))\n",
        "cnn2.add(layers.Flatten())\n",
        "cnn2.add(layers.Dense(64, activation='relu'))\n",
        "cnn2.add(layers.Dense(10, activation='softmax'))\n",
        "cnn2.compile(metrics='accuracy', optimizer='rmsprop', loss='categorical_crossentropy')\n",
        "cnn2.summary()\n",
        "history = cnn2.fit(X, y, batch_size=64, epochs=10, validation_split=0.2) "
      ],
      "execution_count": null,
      "outputs": [
        {
          "output_type": "stream",
          "text": [
            "Model: \"sequential_1\"\n",
            "_________________________________________________________________\n",
            "Layer (type)                 Output Shape              Param #   \n",
            "=================================================================\n",
            "conv2d_3 (Conv2D)            (None, 26, 26, 28)        280       \n",
            "_________________________________________________________________\n",
            "max_pooling2d_2 (MaxPooling2 (None, 13, 13, 28)        0         \n",
            "_________________________________________________________________\n",
            "conv2d_4 (Conv2D)            (None, 11, 11, 56)        14168     \n",
            "_________________________________________________________________\n",
            "max_pooling2d_3 (MaxPooling2 (None, 5, 5, 56)          0         \n",
            "_________________________________________________________________\n",
            "conv2d_5 (Conv2D)            (None, 3, 3, 56)          28280     \n",
            "_________________________________________________________________\n",
            "dropout (Dropout)            (None, 3, 3, 56)          0         \n",
            "_________________________________________________________________\n",
            "flatten_1 (Flatten)          (None, 504)               0         \n",
            "_________________________________________________________________\n",
            "dense_2 (Dense)              (None, 64)                32320     \n",
            "_________________________________________________________________\n",
            "dense_3 (Dense)              (None, 10)                650       \n",
            "=================================================================\n",
            "Total params: 75,698\n",
            "Trainable params: 75,698\n",
            "Non-trainable params: 0\n",
            "_________________________________________________________________\n",
            "Epoch 1/10\n",
            "750/750 [==============================] - 43s 56ms/step - loss: 1.7563 - accuracy: 0.7148 - val_loss: 0.0891 - val_accuracy: 0.9737\n",
            "Epoch 2/10\n",
            "750/750 [==============================] - 41s 55ms/step - loss: 0.1441 - accuracy: 0.9589 - val_loss: 0.0480 - val_accuracy: 0.9865\n",
            "Epoch 3/10\n",
            "750/750 [==============================] - 41s 55ms/step - loss: 0.0999 - accuracy: 0.9712 - val_loss: 0.0559 - val_accuracy: 0.9829\n",
            "Epoch 4/10\n",
            "750/750 [==============================] - 42s 56ms/step - loss: 0.0735 - accuracy: 0.9779 - val_loss: 0.0507 - val_accuracy: 0.9858\n",
            "Epoch 5/10\n",
            "750/750 [==============================] - 42s 56ms/step - loss: 0.0738 - accuracy: 0.9799 - val_loss: 0.0411 - val_accuracy: 0.9887\n",
            "Epoch 6/10\n",
            "750/750 [==============================] - 41s 55ms/step - loss: 0.0658 - accuracy: 0.9820 - val_loss: 0.0444 - val_accuracy: 0.9872\n",
            "Epoch 7/10\n",
            "750/750 [==============================] - 41s 55ms/step - loss: 0.0695 - accuracy: 0.9814 - val_loss: 0.0504 - val_accuracy: 0.9871\n",
            "Epoch 8/10\n",
            "750/750 [==============================] - 42s 56ms/step - loss: 0.0625 - accuracy: 0.9826 - val_loss: 0.0406 - val_accuracy: 0.9884\n",
            "Epoch 9/10\n",
            "750/750 [==============================] - 42s 56ms/step - loss: 0.0655 - accuracy: 0.9833 - val_loss: 0.0446 - val_accuracy: 0.9898\n",
            "Epoch 10/10\n",
            "750/750 [==============================] - 41s 55ms/step - loss: 0.0693 - accuracy: 0.9824 - val_loss: 0.0446 - val_accuracy: 0.9895\n"
          ],
          "name": "stdout"
        }
      ]
    },
    {
      "cell_type": "code",
      "metadata": {
        "colab": {
          "base_uri": "https://localhost:8080/",
          "height": 279
        },
        "id": "05JZ61JkFGDr",
        "outputId": "5b237efa-fc05-46ec-f987-601572333c55"
      },
      "source": [
        "ViewAccuracy(history)"
      ],
      "execution_count": null,
      "outputs": [
        {
          "output_type": "display_data",
          "data": {
            "image/png": "[encoded data removed]",
            "text/plain": [
              "<Figure size 432x288 with 1 Axes>"
            ]
          },
          "metadata": {
            "tags": [],
            "needs_background": "light"
          }
        }
      ]
    },
    {
      "cell_type": "code",
      "metadata": {
        "colab": {
          "base_uri": "https://localhost:8080/",
          "height": 279
        },
        "id": "4NijHLfoGKGM",
        "outputId": "e515eaa3-bba2-433a-e47d-2be3d6a81b0c"
      },
      "source": [
        "ViewLoss(history)"
      ],
      "execution_count": null,
      "outputs": [
        {
          "output_type": "display_data",
          "data": {
            "image/png": "[encoded data removed]",
            "text/plain": [
              "<Figure size 432x288 with 1 Axes>"
            ]
          },
          "metadata": {
            "tags": [],
            "needs_background": "light"
          }
        }
      ]
    },
    {
      "cell_type": "code",
      "metadata": {
        "colab": {
          "base_uri": "https://localhost:8080/"
        },
        "id": "NNfOqcnaDxZt",
        "outputId": "f6ddeed6-c3bc-47e2-8527-84b19fbda5d8"
      },
      "source": [
        "cnn2.evaluate(X, y, batch_size=64)"
      ],
      "execution_count": null,
      "outputs": [
        {
          "output_type": "stream",
          "text": [
            "938/938 [==============================] - 15s 16ms/step - loss: 0.0281 - accuracy: 0.9924\n"
          ],
          "name": "stdout"
        },
        {
          "output_type": "execute_result",
          "data": {
            "text/plain": [
              "[0.02806139551103115, 0.9923833608627319]"
            ]
          },
          "metadata": {
            "tags": []
          },
          "execution_count": 15
        }
      ]
    },
    {
      "cell_type": "code",
      "metadata": {
        "colab": {
          "base_uri": "https://localhost:8080/"
        },
        "id": "41AqRu2cD_j4",
        "outputId": "79773534-1050-4d79-fdd6-205e12891000"
      },
      "source": [
        "cnn2.evaluate(Xval, yval, batch_size=64)"
      ],
      "execution_count": null,
      "outputs": [
        {
          "output_type": "stream",
          "text": [
            "157/157 [==============================] - 3s 16ms/step - loss: 0.0423 - accuracy: 0.9893\n"
          ],
          "name": "stdout"
        },
        {
          "output_type": "execute_result",
          "data": {
            "text/plain": [
              "[0.04227009788155556, 0.989300012588501]"
            ]
          },
          "metadata": {
            "tags": []
          },
          "execution_count": 16
        }
      ]
    },
    {
      "cell_type": "markdown",
      "metadata": {
        "id": "DJCUngtuFemJ"
      },
      "source": [
        "This is doing better, our loss and accuracy is balanced for both training and testing data."
      ]
    },
    {
      "cell_type": "code",
      "metadata": {
        "colab": {
          "base_uri": "https://localhost:8080/",
          "height": 298
        },
        "id": "C-jDhYsNI8c0",
        "outputId": "9ddc0bcc-534c-40d2-bdb9-646d8f03289f"
      },
      "source": [
        "selected = 208\n",
        "predicted = cnn2.predict(test_images[selected].reshape(1, 28, 28, 1)).argmax()\n",
        "actual = test_labels[selected]\n",
        "print('predicted: {}, actual: {}'.format(predicted, actual))\n",
        "plt.imshow(test_images[selected])"
      ],
      "execution_count": null,
      "outputs": [
        {
          "output_type": "stream",
          "text": [
            "predicted: 2, actual: 2\n"
          ],
          "name": "stdout"
        },
        {
          "output_type": "execute_result",
          "data": {
            "text/plain": [
              "<matplotlib.image.AxesImage at 0x7f34e8510890>"
            ]
          },
          "metadata": {
            "tags": []
          },
          "execution_count": 17
        },
        {
          "output_type": "display_data",
          "data": {
            "image/png": "[encoded data removed]",
            "text/plain": [
              "<Figure size 432x288 with 1 Axes>"
            ]
          },
          "metadata": {
            "tags": [],
            "needs_background": "light"
          }
        }
      ]
    },
    {
      "cell_type": "markdown",
      "metadata": {
        "id": "QRJwC0RKPaR9"
      },
      "source": [
        "## Wrapping it all up\n",
        "\n",
        "Just demonstrating a more streamlined approach to this process. This code block will allow us to do what we've already done but with cleaner and more reusable code."
      ]
    },
    {
      "cell_type": "code",
      "metadata": {
        "id": "6JTwgWSYP1Xz"
      },
      "source": [
        "class CNN:\n",
        "\n",
        "  def ViewAccuracy(self, history):\n",
        "    '''plots a model's accuracy throughout training'''\n",
        "    plt.plot(list(range(len(history.history['accuracy']))), history.history['accuracy'], label='train');\n",
        "    plt.plot(list(range(len(history.history['accuracy']))), history.history['val_accuracy'], label='val');\n",
        "    plt.legend(loc='best')\n",
        "    plt.xlabel('epochs')\n",
        "    plt.ylabel('accuracy')\n",
        "    return None\n",
        "\n",
        "  def ViewLoss(self, history):\n",
        "    '''plots a model's loss throughout training'''\n",
        "    plt.plot(list(range(len(history.history['loss']))), history.history['loss'], label='train');\n",
        "    plt.plot(list(range(len(history.history['loss']))), history.history['val_loss'], label='val');\n",
        "    plt.legend(loc='best')\n",
        "    plt.xlabel('epochs')\n",
        "    plt.ylabel('loss')\n",
        "    return None\n",
        "\n",
        "  def ModelReady(self, image_data_tuple):\n",
        "    '''organizes array converted images into training and validation sets'''\n",
        "    train_images, train_labels = train\n",
        "    test_images, test_labels = test \n",
        "    if len(train_images.shape) != 4:\n",
        "      X = train_images.reshape(len(train_images), train_images.shape[1], train_images.shape[1], 1)\n",
        "      Xval = test_images.reshape(len(test_images), test_images.shape[1], test_images.shape[1], 1)\n",
        "    else:\n",
        "      X = train_images\n",
        "      Xval = test_images\n",
        "    y = OneHotEncoder().fit_transform(train_labels.reshape(-1, 1)).toarray()\n",
        "    yval = OneHotEncoder().fit_transform(test_labels.reshape(-1, 1)).toarray()\n",
        "    return X, Xval, y, yval\n",
        "\n",
        "  def BuildClassifier(self, output_dim, filters, channels, kernel, n_blocks, pool, activation, optimizer, dropout, metrics):\n",
        "    '''Builds a CNN in accordinance with the specifications we give it'''\n",
        "    if output_dim == 1:\n",
        "      loss = 'mse'\n",
        "      oa = 'linear'\n",
        "    if output_dim == 2:\n",
        "      loss = 'binary_crossentropy'\n",
        "      oa = 'sigmoid'\n",
        "    else:\n",
        "      loss = 'categorical_crossentropy'\n",
        "      oa = 'softmax'\n",
        "    model = models.Sequential()\n",
        "    model.add(layers.Conv2D(filters, (kernel, kernel), activation=activation, input_shape=(filters, filters, channels)))\n",
        "    if n_blocks == 1:\n",
        "      model.add(layers.MaxPool2D(pool, pool))\n",
        "    for i in range(n_blocks - 1):\n",
        "      model.add(layers.MaxPool2D(pool, pool))\n",
        "      if dropout == True:\n",
        "        model.add(layers.Dropout(0.5))       \n",
        "      model.add(layers.Conv2D(filters*2, kernel, activation=activation))\n",
        "      model.add(layers.Flatten())\n",
        "      model.add(layers.Dense(64, activation=activation))\n",
        "      model.add(layers.Dense(output_dim, activation=oa))\n",
        "      model.compile(optimizer=optimizer, loss=loss, metrics=metrics)\n",
        "      return model\n",
        "\n",
        "  def Train(self, X, y, model, epochs=10, batch_size=64, saving=True, filepath='model.h5', quiet=True):\n",
        "    '''facilitates model training'''\n",
        "    print(type(model))\n",
        "    history = model.fit(X, y, epochs=epochs, batch_size=batch_size, validation_split=0.2)\n",
        "    if quiet == False:\n",
        "      print(CNN().ViewAccuracy(history))\n",
        "      print(CNN().ViewLoss(history))\n",
        "    if saving == False:\n",
        "      return model\n",
        "    else:\n",
        "      model.save(filepath)\n",
        "      model = models.load_model(filepath)\n",
        "      return model\n",
        "\n",
        "  def Evaluate(self, model, X, Xval, y, yval, batch_size=64):\n",
        "    '''prints loss and accuracy for training and testing in a trained model'''\n",
        "    print(model.evaluate(X, y, batch_size=batch_size))\n",
        "    print(model.evaluate(Xval, yval, batch_size=batch_size))\n",
        "\n",
        "  def RunPrediction(self, model, image):\n",
        "    '''classifies a given image with a given trained model'''\n",
        "    image = image.reshape(1, Xval.shape[1], Xval.shape[2], Xval.shape[3])\n",
        "    predicted = cnn2.predict(image).argmax()\n",
        "    print('predicted: {}'.format(predicted))\n",
        "    try:\n",
        "      plt.imshow(image.reshape())"
      ],
      "execution_count": null,
      "outputs": []
    },
    {
      "cell_type": "markdown",
      "metadata": {
        "id": "ql0Q3I_7_luK"
      },
      "source": [
        "Here's the class in use..."
      ]
    },
    {
      "cell_type": "code",
      "metadata": {
        "colab": {
          "base_uri": "https://localhost:8080/",
          "height": 666
        },
        "id": "GhwCXkCQmE9w",
        "outputId": "8564d821-ba36-4d34-9ada-7a5b79b34993"
      },
      "source": [
        "c = CNN()\n",
        "X, Xval, y, yval = c.ModelReady(mnist.load_data())\n",
        "model = c.BuildClassifier(y.shape[1], X.shape[1], 1, 3, 3, 2, 'relu', 'adam', True, 'accuracy')\n",
        "trained = c.Train(X, y, model, quiet=False)"
      ],
      "execution_count": null,
      "outputs": [
        {
          "output_type": "stream",
          "text": [
            "<class 'tensorflow.python.keras.engine.sequential.Sequential'>\n",
            "Epoch 1/10\n",
            "750/750 [==============================] - 44s 58ms/step - loss: 2.1690 - accuracy: 0.7475 - val_loss: 0.1254 - val_accuracy: 0.9626\n",
            "Epoch 2/10\n",
            "750/750 [==============================] - 43s 57ms/step - loss: 0.1304 - accuracy: 0.9600 - val_loss: 0.0790 - val_accuracy: 0.9763\n",
            "Epoch 3/10\n",
            "750/750 [==============================] - 43s 57ms/step - loss: 0.0870 - accuracy: 0.9739 - val_loss: 0.0636 - val_accuracy: 0.9822\n",
            "Epoch 4/10\n",
            "750/750 [==============================] - 43s 57ms/step - loss: 0.0668 - accuracy: 0.9792 - val_loss: 0.0594 - val_accuracy: 0.9814\n",
            "Epoch 5/10\n",
            "750/750 [==============================] - 44s 58ms/step - loss: 0.0573 - accuracy: 0.9819 - val_loss: 0.0566 - val_accuracy: 0.9827\n",
            "Epoch 6/10\n",
            "750/750 [==============================] - 43s 57ms/step - loss: 0.0494 - accuracy: 0.9845 - val_loss: 0.0500 - val_accuracy: 0.9852\n",
            "Epoch 7/10\n",
            "750/750 [==============================] - 43s 57ms/step - loss: 0.0445 - accuracy: 0.9856 - val_loss: 0.0601 - val_accuracy: 0.9829\n",
            "Epoch 8/10\n",
            "750/750 [==============================] - 42s 56ms/step - loss: 0.0412 - accuracy: 0.9862 - val_loss: 0.0490 - val_accuracy: 0.9862\n",
            "Epoch 9/10\n",
            "750/750 [==============================] - 42s 56ms/step - loss: 0.0385 - accuracy: 0.9874 - val_loss: 0.0537 - val_accuracy: 0.9838\n",
            "Epoch 10/10\n",
            "750/750 [==============================] - 42s 56ms/step - loss: 0.0395 - accuracy: 0.9868 - val_loss: 0.0548 - val_accuracy: 0.9853\n",
            "None\n",
            "None\n"
          ],
          "name": "stdout"
        },
        {
          "output_type": "display_data",
          "data": {
            "image/png": "[encoded data removed]",
            "text/plain": [
              "<Figure size 432x288 with 1 Axes>"
            ]
          },
          "metadata": {
            "tags": [],
            "needs_background": "light"
          }
        }
      ]
    },
    {
      "cell_type": "code",
      "metadata": {
        "colab": {
          "base_uri": "https://localhost:8080/"
        },
        "id": "BZkLe0xWuyWE",
        "outputId": "7b3ff2fc-0a1a-40e3-ac10-f523621c3406"
      },
      "source": [
        "c.Evaluate(trained, X, Xval, y, yval)"
      ],
      "execution_count": null,
      "outputs": [
        {
          "output_type": "stream",
          "text": [
            "938/938 [==============================] - 14s 15ms/step - loss: 0.0236 - accuracy: 0.9932\n",
            "[0.0235944502055645, 0.9932000041007996]\n",
            "157/157 [==============================] - 2s 15ms/step - loss: 0.0434 - accuracy: 0.9859\n",
            "[0.04338335990905762, 0.9858999848365784]\n"
          ],
          "name": "stdout"
        }
      ]
    },
    {
      "cell_type": "code",
      "metadata": {
        "colab": {
          "base_uri": "https://localhost:8080/",
          "height": 282
        },
        "id": "Z65uFbaq4Bp_",
        "outputId": "11b2f709-567d-42ca-b768-c700fdd336f6"
      },
      "source": [
        "def RunPrediction(model, image):\n",
        "    image = image.reshape(1, Xval.shape[1], Xval.shape[2], Xval.shape[3])\n",
        "    predicted = cnn2.predict(image).argmax()\n",
        "    print('predicted: {}'.format(predicted))\n",
        "    try:\n",
        "      plt.imshow(image.reshape(Xval.shape[1], Xval.shape[2], Xval.shape[3]))\n",
        "    except:\n",
        "      plt.imshow(image.reshape(Xval.shape[1], Xval.shape[2]))\n",
        "\n",
        "RunPrediction(trained, Xval[900])"
      ],
      "execution_count": null,
      "outputs": [
        {
          "output_type": "stream",
          "text": [
            "predicted: 1\n"
          ],
          "name": "stdout"
        },
        {
          "output_type": "display_data",
          "data": {
            "image/png": "[encoded data removed]",
            "text/plain": [
              "<Figure size 432x288 with 1 Axes>"
            ]
          },
          "metadata": {
            "tags": [],
            "needs_background": "light"
          }
        }
      ]
    }
  ]
}